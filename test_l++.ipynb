{
 "cells": [
  {
   "cell_type": "code",
   "execution_count": 370,
   "metadata": {
    "collapsed": false
   },
   "outputs": [
    {
     "name": "stdout",
     "output_type": "stream",
     "text": [
      "22FF\n",
      "8\n",
      "FF\n"
     ]
    }
   ],
   "source": [
    "def to_two_complement(n):\n",
    "    if (n < 0):\n",
    "        n = (-n) ^ 0xFF\n",
    "        n += 1\n",
    "    \n",
    "    return n\n",
    "\n",
    "def to_hex(n):\n",
    "    return hex(n)[2:].upper()\n",
    "\n",
    "def to_dec(n):\n",
    "    return int(n, 16)\n",
    "\n",
    "S = 34*256 + 255\n",
    "print(to_hex(S))\n",
    "print(to_dec(\"8\"))\n",
    "\n",
    "print(to_hex(((1) ^ 0xFF) + 1))"
   ]
  },
  {
   "cell_type": "code",
   "execution_count": 371,
   "metadata": {
    "collapsed": false
   },
   "outputs": [],
   "source": [
    "VAR_TABLE = {\n",
    "    \"i\": 1,\n",
    "    \"start\": 10\n",
    "}\n",
    "\n",
    "def is_int(s):\n",
    "    for i in s:\n",
    "        if not i.isdigit():\n",
    "            return False\n",
    "    return True\n",
    "\n",
    "def parse_var(v):\n",
    "    if isinstance(v, int):\n",
    "        return v\n",
    "    elif v == \"\":\n",
    "        return 0\n",
    "    elif v in VAR_TABLE:\n",
    "        return VAR_TABLE[v]\n",
    "    elif is_int(v):\n",
    "        return int(v)\n",
    "    elif \"-\" in v:\n",
    "        p = v.find(\"-\")\n",
    "        #print(p)\n",
    "        return parse_var(v[0:p]) - parse_var(v[p+1:])\n",
    "    elif \"+\" in v:\n",
    "        return sum(list(map(parse_var, v.split(\"+\"))))\n",
    "    else:\n",
    "        raise Exception()"
   ]
  },
  {
   "cell_type": "code",
   "execution_count": 372,
   "metadata": {
    "collapsed": false
   },
   "outputs": [
    {
     "data": {
      "text/plain": [
       "10"
      ]
     },
     "execution_count": 372,
     "metadata": {},
     "output_type": "execute_result"
    }
   ],
   "source": [
    "parse_var(\"11-i\")"
   ]
  },
  {
   "cell_type": "code",
   "execution_count": 373,
   "metadata": {
    "collapsed": false
   },
   "outputs": [],
   "source": [
    "class Instruction(object):\n",
    "    OP2CODE = {\n",
    "        \"load-memory\": 1,\n",
    "        \"load-pattern\": 2,\n",
    "        \"store\": 3,\n",
    "        \"add\": 5,\n",
    "        \"jump\": 11,\n",
    "    }\n",
    "    OP_OPERAND = {\n",
    "        \"load-memory\": \"48\",\n",
    "        \"load-pattern\": \"48\",\n",
    "        \"store\": \"48\",\n",
    "        \"add\": \"444\",\n",
    "        \"jump\": \"48\",\n",
    "    }\n",
    "    def __init__(self, operation, operand = []):\n",
    "        print (\"op = %s operand = %s\" % (operation, operand))\n",
    "        if (len(operand) != len(self.OP_OPERAND[operation])):\n",
    "            raise Exception(\"Incorrect operation: %s %s\" % (operation, operand))\n",
    "\n",
    "        self.operation = operation\n",
    "        self.operand = list(operand)\n",
    "\n",
    "    def process_variable(self):\n",
    "        for i in range(0, len(self.operand)):\n",
    "            try:\n",
    "                self.operand[i] = parse_var(self.operand[i])\n",
    "            except:\n",
    "                print(\"Failing to parse %s\" % self.operand[i])\n",
    "                pass\n",
    "            \n",
    "    def to_machine_code(self):\n",
    "        n = self.OP2CODE[self.operation]\n",
    "        pat = self.OP_OPERAND[self.operation]\n",
    "\n",
    "        for i in range(0, len(self.operand)):\n",
    "            #print(n)\n",
    "            n *= 2**to_dec(pat[i])\n",
    "            # print(to_dec(pat[i]))\n",
    "            # print(\"%s %s\" % (self.operand[i], parse_var(self.operand[i])))\n",
    "            n += to_two_complement(parse_var(self.operand[i]))\n",
    "        \n",
    "        #print(n)\n",
    "        return to_hex(n)"
   ]
  },
  {
   "cell_type": "code",
   "execution_count": 374,
   "metadata": {
    "collapsed": false
   },
   "outputs": [
    {
     "name": "stdout",
     "output_type": "stream",
     "text": [
      "op = jump operand = ['i', 'start']\n"
     ]
    }
   ],
   "source": [
    "ins = Instruction(\"jump\", [\"i\", \"start\"])"
   ]
  },
  {
   "cell_type": "code",
   "execution_count": 375,
   "metadata": {
    "collapsed": false
   },
   "outputs": [
    {
     "data": {
      "text/plain": [
       "'B10A'"
      ]
     },
     "execution_count": 375,
     "metadata": {},
     "output_type": "execute_result"
    }
   ],
   "source": [
    "ins.to_machine_code()"
   ]
  },
  {
   "cell_type": "code",
   "execution_count": 376,
   "metadata": {
    "collapsed": false
   },
   "outputs": [],
   "source": [
    "class MachineCode(object):\n",
    "    def __init__(self, src):\n",
    "        self.instructions = []\n",
    "        for line in src.splitlines():\n",
    "            ops = line.split()\n",
    "            if len(ops) == 0:\n",
    "                continue\n",
    "            \n",
    "            if ops[0] == \"using\":\n",
    "                VAR_TABLE[ops[1]] = int(ops[-1])\n",
    "            elif ops[0] == \"tag\":\n",
    "                VAR_TABLE[ops[1]] = len(self.instructions) * 2\n",
    "            else:\n",
    "                ins = Instruction(ops[0], ops[1:])\n",
    "                ins.process_variable()\n",
    "                self.instructions.append(ins)\n",
    "            \n",
    "        VAR_TABLE[\"__code_length\"] = len(self.instructions) * 2\n",
    "            \n",
    "    def __repr__(self):\n",
    "        s = \"\"\n",
    "        for i in self.instructions:\n",
    "            s += i.to_machine_code() + \"\\n\"\n",
    "        return s"
   ]
  },
  {
   "cell_type": "code",
   "execution_count": 377,
   "metadata": {
    "collapsed": true
   },
   "outputs": [],
   "source": [
    "code = \"\"\"\n",
    "using i           register 1\n",
    "using minus1      register 2\n",
    "using tmp         register 3\n",
    "using zero        register 0\n",
    "using to          register 5\n",
    "\n",
    "load-pattern minus1 -1\n",
    "load-pattern i __code_length\n",
    "tag start\n",
    "add i i minus1\n",
    "store i load_pos+1\n",
    "tag load_pos\n",
    "load-memory tmp 170\n",
    "load-pattern to 70\n",
    "add to to i\n",
    "store to store_pos+1\n",
    "tag store_pos\n",
    "store tmp 170\n",
    "jump i 70\n",
    "jump zero start\"\"\""
   ]
  },
  {
   "cell_type": "code",
   "execution_count": 378,
   "metadata": {
    "collapsed": false
   },
   "outputs": [
    {
     "name": "stdout",
     "output_type": "stream",
     "text": [
      "op = load-pattern operand = ['minus1', '-1']\n",
      "op = load-pattern operand = ['i', '__code_length']\n",
      "Failing to parse __code_length\n",
      "op = add operand = ['i', 'i', 'minus1']\n",
      "op = store operand = ['i', 'load_pos+1']\n",
      "Failing to parse load_pos+1\n",
      "op = load-memory operand = ['tmp', '170']\n",
      "op = load-pattern operand = ['to', '70']\n",
      "op = add operand = ['to', 'to', 'i']\n",
      "op = store operand = ['to', 'store_pos+1']\n",
      "Failing to parse store_pos+1\n",
      "op = store operand = ['tmp', '170']\n",
      "op = jump operand = ['i', '70']\n",
      "op = jump operand = ['zero', 'start']\n",
      "{'load_pos': 8, 'start': 4, 'store_pos': 16, '__code_length': 22, 'i': 1, 'zero': 0, 'to': 5, 'tmp': 3, 'minus1': 2}\n"
     ]
    }
   ],
   "source": [
    "VAR_TABLE = {}\n",
    "mc = MachineCode(code)\n",
    "print(VAR_TABLE)"
   ]
  },
  {
   "cell_type": "code",
   "execution_count": 379,
   "metadata": {
    "collapsed": false
   },
   "outputs": [
    {
     "name": "stdout",
     "output_type": "stream",
     "text": [
      "22FF\n",
      "2116\n",
      "5112\n",
      "3109\n",
      "13AA\n",
      "2546\n",
      "5551\n",
      "3511\n",
      "33AA\n",
      "B146\n",
      "B004\n",
      "\n"
     ]
    }
   ],
   "source": [
    "print(mc)"
   ]
  },
  {
   "cell_type": "code",
   "execution_count": null,
   "metadata": {
    "collapsed": true
   },
   "outputs": [],
   "source": []
  },
  {
   "cell_type": "code",
   "execution_count": null,
   "metadata": {
    "collapsed": true
   },
   "outputs": [],
   "source": []
  }
 ],
 "metadata": {
  "anaconda-cloud": {},
  "kernelspec": {
   "display_name": "Python [conda root]",
   "language": "python",
   "name": "conda-root-py"
  },
  "language_info": {
   "codemirror_mode": {
    "name": "ipython",
    "version": 3
   },
   "file_extension": ".py",
   "mimetype": "text/x-python",
   "name": "python",
   "nbconvert_exporter": "python",
   "pygments_lexer": "ipython3",
   "version": "3.5.2"
  }
 },
 "nbformat": 4,
 "nbformat_minor": 1
}
