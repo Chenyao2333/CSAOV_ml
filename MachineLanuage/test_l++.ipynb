{
 "cells": [
  {
   "cell_type": "code",
   "execution_count": null,
   "metadata": {
    "collapsed": true
   },
   "outputs": [],
   "source": [
    "# Copyright Chenyao2333"
   ]
  },
  {
   "cell_type": "code",
   "execution_count": 3,
   "metadata": {
    "collapsed": false
   },
   "outputs": [
    {
     "name": "stdout",
     "output_type": "stream",
     "text": [
      "22FF\n",
      "8\n",
      "FF\n"
     ]
    }
   ],
   "source": [
    "def to_two_complement(n):\n",
    "    if (n < 0):\n",
    "        n = (-n) ^ 0xFF\n",
    "        n += 1\n",
    "    \n",
    "    return n\n",
    "\n",
    "def to_hex(n):\n",
    "    return hex(n)[2:].upper()\n",
    "\n",
    "def to_dec(n):\n",
    "    return int(n, 16)\n",
    "\n",
    "S = 34*256 + 255\n",
    "print(to_hex(S))\n",
    "print(to_dec(\"8\"))\n",
    "\n",
    "print(to_hex(((1) ^ 0xFF) + 1))"
   ]
  },
  {
   "cell_type": "code",
   "execution_count": 4,
   "metadata": {
    "collapsed": false,
    "scrolled": true
   },
   "outputs": [
    {
     "ename": "ValueError",
     "evalue": "invalid literal for int() with base 10: '0x10'",
     "output_type": "error",
     "traceback": [
      "\u001b[0;31m---------------------------------------------------------------------------\u001b[0m",
      "\u001b[0;31mValueError\u001b[0m                                Traceback (most recent call last)",
      "\u001b[0;32m<ipython-input-4-7343f78a8877>\u001b[0m in \u001b[0;36m<module>\u001b[0;34m()\u001b[0m\n\u001b[0;32m----> 1\u001b[0;31m \u001b[0mprint\u001b[0m\u001b[1;33m(\u001b[0m\u001b[0mint\u001b[0m\u001b[1;33m(\u001b[0m\u001b[1;34m\"0x10\"\u001b[0m\u001b[1;33m)\u001b[0m\u001b[1;33m)\u001b[0m\u001b[1;33m\u001b[0m\u001b[0m\n\u001b[0m",
      "\u001b[0;31mValueError\u001b[0m: invalid literal for int() with base 10: '0x10'"
     ]
    }
   ],
   "source": [
    "print(int(\"0x10\"))"
   ]
  },
  {
   "cell_type": "code",
   "execution_count": 5,
   "metadata": {
    "collapsed": false
   },
   "outputs": [],
   "source": [
    "TEST_VAR_TABLE = {\n",
    "    \"i\": 1,\n",
    "    \"start\": 10\n",
    "}\n",
    "\n",
    "def is_dec(s):\n",
    "    for i in s:\n",
    "        if not i.isdigit():\n",
    "            return False\n",
    "    return True\n",
    "\n",
    "def is_hex(s):\n",
    "    if not s.startswith(\"0x\"):\n",
    "        return False\n",
    "    try:\n",
    "        int(s, 16)\n",
    "        return True\n",
    "    except:\n",
    "        return False\n",
    "\n",
    "def parse_var(v, var_table):\n",
    "    if isinstance(v, int):\n",
    "        return v\n",
    "    elif v == \"\":\n",
    "        return 0\n",
    "    elif v in var_table:\n",
    "        return var_table[v]\n",
    "    elif is_hex(v):\n",
    "        return int(v, 16)\n",
    "    elif is_dec(v):\n",
    "        return int(v)\n",
    "    elif \"+\" in v:\n",
    "        return sum(list(map(lambda x: parse_var(x, var_table), v.split(\"+\"))))\n",
    "    elif \"-\" in v:\n",
    "        p = v.rfind(\"-\")\n",
    "        return parse_var(v[0:p], var_table) - parse_var(v[p+1:], var_table)\n",
    "    else:\n",
    "        raise Exception()"
   ]
  },
  {
   "cell_type": "code",
   "execution_count": 6,
   "metadata": {
    "collapsed": false
   },
   "outputs": [
    {
     "name": "stdout",
     "output_type": "stream",
     "text": [
      "10\n",
      "70\n",
      "0\n",
      "11\n"
     ]
    }
   ],
   "source": [
    "var = [\"11-i\", \"0x46\", \"0xA+i-start-1\", \"start+1-0x1+1\"]\n",
    "for i in var:\n",
    "    print(parse_var(i, TEST_VAR_TABLE))"
   ]
  },
  {
   "cell_type": "code",
   "execution_count": 13,
   "metadata": {
    "collapsed": false
   },
   "outputs": [],
   "source": [
    "class Instruction(object):\n",
    "    OP2CODE = {\n",
    "        \"load-memory\": 1,\n",
    "        \"load-pattern\": 2,\n",
    "        \"store\": 3,\n",
    "        \"add\": 5,\n",
    "        \"and\": 8,\n",
    "        \"jump\": 11,\n",
    "    }\n",
    "    OP_OPERAND = {\n",
    "        \"load-memory\": \"48\",\n",
    "        \"load-pattern\": \"48\",\n",
    "        \"store\": \"48\",\n",
    "        \"add\": \"444\",\n",
    "        \"and\": \"444\",\n",
    "        \"jump\": \"48\",\n",
    "    }\n",
    "    def __init__(self, operation, operand = []):\n",
    "        print (\"op = %s operand = %s\" % (operation, operand))\n",
    "        if (len(operand) != len(self.OP_OPERAND[operation])):\n",
    "            raise Exception(\"Incorrect operation: %s %s\" % (operation, operand))\n",
    "\n",
    "        self.operation = operation\n",
    "        self.operand = list(operand)\n",
    "\n",
    "    def process_variable(self, var_table):\n",
    "        for i in range(0, len(self.operand)):\n",
    "            try:\n",
    "                self.operand[i] = parse_var(self.operand[i], var_table)\n",
    "            except:\n",
    "                print(\"Failing to parse %s\" % self.operand[i])\n",
    "                pass\n",
    "            \n",
    "    def to_machine_code(self, var_table):\n",
    "        n = self.OP2CODE[self.operation]\n",
    "        pat = self.OP_OPERAND[self.operation]\n",
    "\n",
    "        for i in range(0, len(self.operand)):\n",
    "            # print(self.operand[i])\n",
    "            n *= 2**to_dec(pat[i])\n",
    "            n += to_two_complement(parse_var(self.operand[i], var_table))\n",
    "        \n",
    "        #print(n)\n",
    "        return to_hex(n)"
   ]
  },
  {
   "cell_type": "code",
   "execution_count": 14,
   "metadata": {
    "collapsed": false
   },
   "outputs": [
    {
     "name": "stdout",
     "output_type": "stream",
     "text": [
      "op = jump operand = ['i', 'start']\n"
     ]
    }
   ],
   "source": [
    "ins = Instruction(\"jump\", [\"i\", \"start\"])"
   ]
  },
  {
   "cell_type": "code",
   "execution_count": 15,
   "metadata": {
    "collapsed": false
   },
   "outputs": [
    {
     "data": {
      "text/plain": [
       "'B10A'"
      ]
     },
     "execution_count": 15,
     "metadata": {},
     "output_type": "execute_result"
    }
   ],
   "source": [
    "ins.to_machine_code(TEST_VAR_TABLE)"
   ]
  },
  {
   "cell_type": "code",
   "execution_count": 16,
   "metadata": {
    "collapsed": false
   },
   "outputs": [],
   "source": [
    "class MachineCode(object):\n",
    "    def __init__(self, src):\n",
    "        self.instructions = []\n",
    "        self.var_table = {}\n",
    "        \n",
    "        for line in src.splitlines():\n",
    "            line = line.strip()\n",
    "            if line.startswith(\"#\"):\n",
    "                continue\n",
    "            ops = line.split()\n",
    "            if len(ops) == 0:\n",
    "                continue\n",
    "            \n",
    "            if ops[0] == \"using\":\n",
    "                self.var_table[ops[1]] = int(ops[-1])\n",
    "            elif ops[0] == \"tag\":\n",
    "                self.var_table[ops[1]] = len(self.instructions) * 2\n",
    "            else:\n",
    "                ins = Instruction(ops[0], ops[1:])\n",
    "                ins.process_variable(self.var_table)\n",
    "                self.instructions.append(ins)\n",
    "            \n",
    "        self.var_table[\"__code_length\"] = len(self.instructions) * 2\n",
    "            \n",
    "    def __repr__(self):\n",
    "        s = \"\"\n",
    "        for i in self.instructions:\n",
    "            s += i.to_machine_code(self.var_table) + \"\\n\"\n",
    "        return s"
   ]
  },
  {
   "cell_type": "code",
   "execution_count": 17,
   "metadata": {
    "collapsed": true
   },
   "outputs": [],
   "source": [
    "code = \"\"\"\n",
    "using i           register 1\n",
    "using minus1      register 2\n",
    "using tmp         register 3\n",
    "using zero        register 0\n",
    "using to          register 5\n",
    "\n",
    "load-pattern minus1 -1\n",
    "load-pattern i __code_length\n",
    "tag start\n",
    "    add i i minus1\n",
    "    \n",
    "    # read from memory into tmp\n",
    "    store i load_pos+1\n",
    "    tag load_pos\n",
    "    load-memory tmp 0xAA\n",
    "    \n",
    "    # write back to memory with shift 0x70\n",
    "    load-pattern to 0x70\n",
    "    add to to i\n",
    "    store to store_pos+1\n",
    "    tag store_pos\n",
    "    store tmp 0xAA\n",
    "    \n",
    "    jump i 0x70\n",
    "jump zero start\n",
    "\"\"\""
   ]
  },
  {
   "cell_type": "code",
   "execution_count": 18,
   "metadata": {
    "collapsed": false
   },
   "outputs": [
    {
     "name": "stdout",
     "output_type": "stream",
     "text": [
      "op = load-pattern operand = ['minus1', '-1']\n",
      "op = load-pattern operand = ['i', '__code_length']\n",
      "Failing to parse __code_length\n",
      "op = add operand = ['i', 'i', 'minus1']\n",
      "op = store operand = ['i', 'load_pos+1']\n",
      "Failing to parse load_pos+1\n",
      "op = load-memory operand = ['tmp', '0xAA']\n",
      "op = load-pattern operand = ['to', '0x70']\n",
      "op = add operand = ['to', 'to', 'i']\n",
      "op = store operand = ['to', 'store_pos+1']\n",
      "Failing to parse store_pos+1\n",
      "op = store operand = ['tmp', '0xAA']\n",
      "op = jump operand = ['i', '0x70']\n",
      "op = jump operand = ['zero', 'start']\n",
      "{'store_pos': 16, 'i': 1, 'minus1': 2, 'zero': 0, '__code_length': 22, 'tmp': 3, 'start': 4, 'load_pos': 8, 'to': 5}\n",
      "22FF\n",
      "2116\n",
      "5112\n",
      "3109\n",
      "13AA\n",
      "2570\n",
      "5551\n",
      "3511\n",
      "33AA\n",
      "B170\n",
      "B004\n",
      "\n"
     ]
    }
   ],
   "source": [
    "mc = MachineCode(code)\n",
    "print(mc.var_table)\n",
    "print(mc)"
   ]
  },
  {
   "cell_type": "code",
   "execution_count": 21,
   "metadata": {
    "collapsed": true
   },
   "outputs": [],
   "source": [
    "code_c = \"\"\"\n",
    "using condition     register 0\n",
    "using problem_start register 11\n",
    "using tmp0          register 5\n",
    "using tmp1          register 6\n",
    "using load_mem_pos  register 7\n",
    "using store_mem_pos register 8\n",
    "using ins           register 9\n",
    "using i             register 1\n",
    "using one           register 4\n",
    "using two           register 13\n",
    "using n70           register 2\n",
    "using zero          register 12\n",
    "\n",
    "load-pattern one 1\n",
    "load-pattern two 2\n",
    "load-pattern i -2\n",
    "load-pattern n70 0x70\n",
    "\n",
    "# load-pattern problem_start 0\n",
    "\n",
    "tag while\n",
    "    add i i two\n",
    "    \n",
    "    # load instruction from memory to tmp0 and tmp1\n",
    "    add load_mem_pos problem_start i\n",
    "    store load_mem_pos load_tag_0+1\n",
    "    tag load_tag_0\n",
    "    load-memory tmp0 0xAA\n",
    "    \n",
    "    add load_mem_pos load_mem_pos one\n",
    "    store load_mem_pos load_tag_1+1 \n",
    "    tag load_tag_1\n",
    "    load-memory tmp1 0xAA\n",
    "    \n",
    "    \n",
    "    \n",
    "    # check if the tmp1(address) needs to add 70\n",
    "    \n",
    "    # check if the ins is load-pattern problem_start\n",
    "    # the problem_start is register 11\n",
    "    # load-pattern condition 0x2B\n",
    "    # jump ins plus_70\n",
    "    \n",
    "    # extract instruction\n",
    "    load-pattern ins 0xF0\n",
    "    and ins ins tmp0\n",
    "    \n",
    "    # check if the ins is jump\n",
    "    load-pattern condition 0xB0\n",
    "    jump ins plus_70\n",
    "    \n",
    "    # check if the ins is store\n",
    "    load-pattern condition 0x30\n",
    "    jump ins plus_70\n",
    "    \n",
    "    \n",
    "    tag write_back\n",
    "    # store the instructions into the destination\n",
    "    add store_mem_pos problem_start i\n",
    "    add store_mem_pos store_mem_pos n70\n",
    "    store store_mem_pos store_tag_0+1\n",
    "    tag store_tag_0\n",
    "    store tmp0 0xAA\n",
    "    \n",
    "    add store_mem_pos store_mem_pos one\n",
    "    store store_mem_pos store_tag_1+1\n",
    "    tag store_tag_1\n",
    "    store tmp1 0xAA\n",
    "\n",
    "    load-pattern condition __code_length-2\n",
    "    jump i break\n",
    "jump condition while\n",
    "\n",
    "tag break\n",
    "add problem_start problem_start n70\n",
    "jump condition 0x70\n",
    "\n",
    "# function: add tmp1 with 0x70\n",
    "tag plus_70\n",
    "    add tmp1 tmp1 n70\n",
    "jump condition write_back\n",
    "\"\"\""
   ]
  },
  {
   "cell_type": "code",
   "execution_count": 22,
   "metadata": {
    "collapsed": false,
    "scrolled": false
   },
   "outputs": [
    {
     "name": "stdout",
     "output_type": "stream",
     "text": [
      "op = load-pattern operand = ['one', '1']\n",
      "op = load-pattern operand = ['two', '2']\n",
      "op = load-pattern operand = ['i', '-2']\n",
      "op = load-pattern operand = ['n70', '0x70']\n",
      "op = add operand = ['i', 'i', 'two']\n",
      "op = add operand = ['load_mem_pos', 'problem_start', 'i']\n",
      "op = store operand = ['load_mem_pos', 'load_tag_0+1']\n",
      "Failing to parse load_tag_0+1\n",
      "op = load-memory operand = ['tmp0', '0xAA']\n",
      "op = add operand = ['load_mem_pos', 'load_mem_pos', 'one']\n",
      "op = store operand = ['load_mem_pos', 'load_tag_1+1']\n",
      "Failing to parse load_tag_1+1\n",
      "op = load-memory operand = ['tmp1', '0xAA']\n",
      "op = load-pattern operand = ['ins', '0xF0']\n",
      "op = and operand = ['ins', 'ins', 'tmp0']\n",
      "op = load-pattern operand = ['condition', '0xB0']\n",
      "op = jump operand = ['ins', 'plus_70']\n",
      "Failing to parse plus_70\n",
      "op = load-pattern operand = ['condition', '0x30']\n",
      "op = jump operand = ['ins', 'plus_70']\n",
      "Failing to parse plus_70\n",
      "op = add operand = ['store_mem_pos', 'problem_start', 'i']\n",
      "op = add operand = ['store_mem_pos', 'store_mem_pos', 'n70']\n",
      "op = store operand = ['store_mem_pos', 'store_tag_0+1']\n",
      "Failing to parse store_tag_0+1\n",
      "op = store operand = ['tmp0', '0xAA']\n",
      "op = add operand = ['store_mem_pos', 'store_mem_pos', 'one']\n",
      "op = store operand = ['store_mem_pos', 'store_tag_1+1']\n",
      "Failing to parse store_tag_1+1\n",
      "op = store operand = ['tmp1', '0xAA']\n",
      "op = load-pattern operand = ['condition', '__code_length-2']\n",
      "Failing to parse __code_length-2\n",
      "op = jump operand = ['i', 'break']\n",
      "Failing to parse break\n",
      "op = jump operand = ['condition', 'while']\n",
      "op = add operand = ['problem_start', 'problem_start', 'n70']\n",
      "op = jump operand = ['condition', '0x70']\n",
      "op = add operand = ['tmp1', 'tmp1', 'n70']\n",
      "op = jump operand = ['condition', 'write_back']\n",
      "{'load_tag_1': 20, 'store_tag_0': 40, 'tmp0': 5, 'one': 4, 'zero': 12, 'tmp1': 6, 'two': 13, 'plus_70': 58, 'n70': 2, 'store_tag_1': 46, 'write_back': 34, '__code_length': 62, 'i': 1, 'problem_start': 11, 'ins': 9, 'condition': 0, 'store_mem_pos': 8, 'break': 54, 'load_tag_0': 14, 'while': 8, 'load_mem_pos': 7}\n",
      "2401\n",
      "2D02\n",
      "21FE\n",
      "2270\n",
      "511D\n",
      "57B1\n",
      "370F\n",
      "15AA\n",
      "5774\n",
      "3715\n",
      "16AA\n",
      "29F0\n",
      "8995\n",
      "20B0\n",
      "B93A\n",
      "2030\n",
      "B93A\n",
      "58B1\n",
      "5882\n",
      "3829\n",
      "35AA\n",
      "5884\n",
      "382F\n",
      "36AA\n",
      "203C\n",
      "B136\n",
      "B008\n",
      "5BB2\n",
      "B070\n",
      "5662\n",
      "B022\n",
      "\n"
     ]
    }
   ],
   "source": [
    "mc_c = MachineCode(code_c)\n",
    "print(mc_c.var_table)\n",
    "print(mc_c)"
   ]
  },
  {
   "cell_type": "code",
   "execution_count": 130,
   "metadata": {
    "collapsed": true
   },
   "outputs": [],
   "source": [
    "a = 0X100"
   ]
  },
  {
   "cell_type": "code",
   "execution_count": 131,
   "metadata": {
    "collapsed": false
   },
   "outputs": [
    {
     "name": "stdout",
     "output_type": "stream",
     "text": [
      "256\n"
     ]
    }
   ],
   "source": [
    "print(a)"
   ]
  },
  {
   "cell_type": "code",
   "execution_count": null,
   "metadata": {
    "collapsed": true
   },
   "outputs": [],
   "source": []
  }
 ],
 "metadata": {
  "anaconda-cloud": {},
  "kernelspec": {
   "display_name": "Python [conda root]",
   "language": "python",
   "name": "conda-root-py"
  },
  "language_info": {
   "codemirror_mode": {
    "name": "ipython",
    "version": 3
   },
   "file_extension": ".py",
   "mimetype": "text/x-python",
   "name": "python",
   "nbconvert_exporter": "python",
   "pygments_lexer": "ipython3",
   "version": "3.5.2"
  }
 },
 "nbformat": 4,
 "nbformat_minor": 1
}
